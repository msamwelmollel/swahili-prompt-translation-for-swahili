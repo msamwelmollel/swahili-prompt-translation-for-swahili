{
 "cells": [
  {
   "cell_type": "code",
   "execution_count": null,
   "id": "a4655f27",
   "metadata": {},
   "outputs": [],
   "source": [
    "%pip install huggingface_hub argilla datasets openai -qqq"
   ]
  },
  {
   "cell_type": "code",
   "execution_count": 3,
   "id": "9baf4562",
   "metadata": {},
   "outputs": [],
   "source": [
    "from huggingface_hub import duplicate_space\n",
    "from huggingface_hub import hf_hub_download\n",
    "from huggingface_hub import HfApi\n",
    "from huggingface_hub import SpaceCard\n",
    "import yaml\n",
    "import json"
   ]
  },
  {
   "cell_type": "code",
   "execution_count": 2,
   "id": "27363000",
   "metadata": {},
   "outputs": [
    {
     "name": "stdout",
     "output_type": "stream",
     "text": [
      "utf-8\n"
     ]
    }
   ],
   "source": [
    "import sys\n",
    "print(sys.getdefaultencoding())\n"
   ]
  },
  {
   "cell_type": "code",
   "execution_count": 4,
   "id": "60d2780d",
   "metadata": {},
   "outputs": [],
   "source": [
    "HF_ORG_NAME = \"DIBT-Swahili\" # update with the ID of the org you just created\n",
    "LANGUAGE = \"Swahili\" # update this with the language you will work on"
   ]
  },
  {
   "cell_type": "code",
   "execution_count": 5,
   "id": "5ec22d85",
   "metadata": {},
   "outputs": [],
   "source": [
    "assert HF_ORG_NAME is not None, \"Please set HF_ORG_NAME to the ID of the Hugging Face org you just created\"\n",
    "assert LANGUAGE is not None, \"Please set LANGUAGE to the language your effort focuses on\""
   ]
  },
  {
   "cell_type": "code",
   "execution_count": 6,
   "id": "c1bf3ecd",
   "metadata": {},
   "outputs": [],
   "source": [
    "from huggingface_hub import login"
   ]
  },
  {
   "cell_type": "code",
   "execution_count": 7,
   "id": "cff9a703",
   "metadata": {},
   "outputs": [
    {
     "data": {
      "application/vnd.jupyter.widget-view+json": {
       "model_id": "8f1c0be22a3d4b46bf683ec70c32fc55",
       "version_major": 2,
       "version_minor": 0
      },
      "text/plain": [
       "VBox(children=(HTML(value='<center> <img\\nsrc=https://huggingface.co/front/assets/huggingface_logo-noborder.sv…"
      ]
     },
     "metadata": {},
     "output_type": "display_data"
    }
   ],
   "source": [
    "login()"
   ]
  },
  {
   "cell_type": "code",
   "execution_count": 8,
   "id": "5714b1ea",
   "metadata": {},
   "outputs": [],
   "source": [
    "api = HfApi()"
   ]
  },
  {
   "cell_type": "code",
   "execution_count": 9,
   "id": "ce972b07",
   "metadata": {},
   "outputs": [],
   "source": [
    "from_id = \"argilla/argilla-template-space-with-oauth\"\n",
    "to_id =  f\"{HF_ORG_NAME}/prompt-translation-for-{LANGUAGE}\"\n",
    "# new_space = duplicate_space(from_id, to_id=to_id)\n",
    "# new_space"
   ]
  },
  {
   "cell_type": "code",
   "execution_count": 10,
   "id": "7c4902c2",
   "metadata": {},
   "outputs": [
    {
     "data": {
      "text/plain": [
       "'DIBT-Swahili/prompt-translation-for-Swahili'"
      ]
     },
     "execution_count": 10,
     "metadata": {},
     "output_type": "execute_result"
    }
   ],
   "source": [
    "to_id"
   ]
  },
  {
   "cell_type": "code",
   "execution_count": 11,
   "id": "668f0a6b",
   "metadata": {},
   "outputs": [
    {
     "name": "stdout",
     "output_type": "stream",
     "text": [
      "True\n"
     ]
    }
   ],
   "source": [
    "def is_ascii(s):\n",
    "    return all(ord(c) < 128 for c in s)\n",
    "\n",
    "\n",
    "test_string = to_id\n",
    "print(is_ascii(test_string))  # This would print False if to_id has non  ASCII\n"
   ]
  },
  {
   "cell_type": "code",
   "execution_count": 12,
   "id": "ebcb7a75",
   "metadata": {},
   "outputs": [],
   "source": [
    "card = SpaceCard.load(to_id)\n",
    "card.data.title = f\"DIBT Translation for {LANGUAGE}\"\n"
   ]
  },
  {
   "cell_type": "code",
   "execution_count": 13,
   "id": "f5a4e52d",
   "metadata": {},
   "outputs": [
    {
     "ename": "UnicodeEncodeError",
     "evalue": "'charmap' codec can't encode characters in position 96-97: character maps to <undefined>",
     "output_type": "error",
     "traceback": [
      "\u001b[1;31m---------------------------------------------------------------------------\u001b[0m",
      "\u001b[1;31mUnicodeEncodeError\u001b[0m                        Traceback (most recent call last)",
      "Cell \u001b[1;32mIn[13], line 1\u001b[0m\n\u001b[1;32m----> 1\u001b[0m card\u001b[38;5;241m.\u001b[39mpush_to_hub(to_id)\n",
      "File \u001b[1;32m~\\anaconda3\\Lib\\site-packages\\huggingface_hub\\repocard.py:275\u001b[0m, in \u001b[0;36mRepoCard.push_to_hub\u001b[1;34m(self, repo_id, token, repo_type, commit_message, commit_description, revision, create_pr, parent_commit)\u001b[0m\n\u001b[0;32m    273\u001b[0m \u001b[38;5;28;01mwith\u001b[39;00m SoftTemporaryDirectory() \u001b[38;5;28;01mas\u001b[39;00m tmpdir:\n\u001b[0;32m    274\u001b[0m     tmp_path \u001b[38;5;241m=\u001b[39m Path(tmpdir) \u001b[38;5;241m/\u001b[39m REPOCARD_NAME\n\u001b[1;32m--> 275\u001b[0m     tmp_path\u001b[38;5;241m.\u001b[39mwrite_text(\u001b[38;5;28mstr\u001b[39m(\u001b[38;5;28mself\u001b[39m))\n\u001b[0;32m    276\u001b[0m     url \u001b[38;5;241m=\u001b[39m upload_file(\n\u001b[0;32m    277\u001b[0m         path_or_fileobj\u001b[38;5;241m=\u001b[39m\u001b[38;5;28mstr\u001b[39m(tmp_path),\n\u001b[0;32m    278\u001b[0m         path_in_repo\u001b[38;5;241m=\u001b[39mREPOCARD_NAME,\n\u001b[1;32m   (...)\u001b[0m\n\u001b[0;32m    286\u001b[0m         parent_commit\u001b[38;5;241m=\u001b[39mparent_commit,\n\u001b[0;32m    287\u001b[0m     )\n\u001b[0;32m    288\u001b[0m \u001b[38;5;28;01mreturn\u001b[39;00m url\n",
      "File \u001b[1;32m~\\anaconda3\\Lib\\pathlib.py:1079\u001b[0m, in \u001b[0;36mPath.write_text\u001b[1;34m(self, data, encoding, errors, newline)\u001b[0m\n\u001b[0;32m   1077\u001b[0m encoding \u001b[38;5;241m=\u001b[39m io\u001b[38;5;241m.\u001b[39mtext_encoding(encoding)\n\u001b[0;32m   1078\u001b[0m \u001b[38;5;28;01mwith\u001b[39;00m \u001b[38;5;28mself\u001b[39m\u001b[38;5;241m.\u001b[39mopen(mode\u001b[38;5;241m=\u001b[39m\u001b[38;5;124m'\u001b[39m\u001b[38;5;124mw\u001b[39m\u001b[38;5;124m'\u001b[39m, encoding\u001b[38;5;241m=\u001b[39mencoding, errors\u001b[38;5;241m=\u001b[39merrors, newline\u001b[38;5;241m=\u001b[39mnewline) \u001b[38;5;28;01mas\u001b[39;00m f:\n\u001b[1;32m-> 1079\u001b[0m     \u001b[38;5;28;01mreturn\u001b[39;00m f\u001b[38;5;241m.\u001b[39mwrite(data)\n",
      "File \u001b[1;32m~\\anaconda3\\Lib\\encodings\\cp1252.py:19\u001b[0m, in \u001b[0;36mIncrementalEncoder.encode\u001b[1;34m(self, input, final)\u001b[0m\n\u001b[0;32m     18\u001b[0m \u001b[38;5;28;01mdef\u001b[39;00m \u001b[38;5;21mencode\u001b[39m(\u001b[38;5;28mself\u001b[39m, \u001b[38;5;28minput\u001b[39m, final\u001b[38;5;241m=\u001b[39m\u001b[38;5;28;01mFalse\u001b[39;00m):\n\u001b[1;32m---> 19\u001b[0m     \u001b[38;5;28;01mreturn\u001b[39;00m codecs\u001b[38;5;241m.\u001b[39mcharmap_encode(\u001b[38;5;28minput\u001b[39m,\u001b[38;5;28mself\u001b[39m\u001b[38;5;241m.\u001b[39merrors,encoding_table)[\u001b[38;5;241m0\u001b[39m]\n",
      "\u001b[1;31mUnicodeEncodeError\u001b[0m: 'charmap' codec can't encode characters in position 96-97: character maps to <undefined>"
     ]
    }
   ],
   "source": [
    "card.push_to_hub(to_id)"
   ]
  },
  {
   "cell_type": "code",
   "execution_count": 12,
   "id": "b92425b8",
   "metadata": {},
   "outputs": [
    {
     "ename": "NameError",
     "evalue": "name 'new_space' is not defined",
     "output_type": "error",
     "traceback": [
      "\u001b[1;31m---------------------------------------------------------------------------\u001b[0m",
      "\u001b[1;31mNameError\u001b[0m                                 Traceback (most recent call last)",
      "Cell \u001b[1;32mIn[12], line 1\u001b[0m\n\u001b[1;32m----> 1\u001b[0m homepage_url \u001b[38;5;241m=\u001b[39m \u001b[38;5;124mf\u001b[39m\u001b[38;5;124m\"\u001b[39m\u001b[38;5;124mhttps://\u001b[39m\u001b[38;5;132;01m{\u001b[39;00mnew_space\u001b[38;5;241m.\u001b[39mrepo_id\u001b[38;5;241m.\u001b[39mlower()\u001b[38;5;241m.\u001b[39mreplace(\u001b[38;5;124m'\u001b[39m\u001b[38;5;124m/\u001b[39m\u001b[38;5;124m'\u001b[39m,\u001b[38;5;250m \u001b[39m\u001b[38;5;124m'\u001b[39m\u001b[38;5;124m-\u001b[39m\u001b[38;5;124m'\u001b[39m)\u001b[38;5;132;01m}\u001b[39;00m\u001b[38;5;124m.hf.space\u001b[39m\u001b[38;5;124m\"\u001b[39m\n\u001b[0;32m      2\u001b[0m favicon_url \u001b[38;5;241m=\u001b[39m \u001b[38;5;124mf\u001b[39m\u001b[38;5;124m\"\u001b[39m\u001b[38;5;132;01m{\u001b[39;00mhomepage_url\u001b[38;5;241m.\u001b[39mlower()\u001b[38;5;132;01m}\u001b[39;00m\u001b[38;5;124m/favicon.ico\u001b[39m\u001b[38;5;124m\"\u001b[39m\n\u001b[0;32m      3\u001b[0m redirect_url \u001b[38;5;241m=\u001b[39m \u001b[38;5;124mf\u001b[39m\u001b[38;5;124m\"\u001b[39m\u001b[38;5;132;01m{\u001b[39;00mhomepage_url\u001b[38;5;241m.\u001b[39mlower()\u001b[38;5;132;01m}\u001b[39;00m\u001b[38;5;124m/oauth/huggingface/callback\u001b[39m\u001b[38;5;124m\"\u001b[39m\n",
      "\u001b[1;31mNameError\u001b[0m: name 'new_space' is not defined"
     ]
    }
   ],
   "source": [
    "homepage_url = f\"https://{new_space.repo_id.lower().replace('/', '-')}.hf.space\"\n",
    "favicon_url = f\"{homepage_url.lower()}/favicon.ico\"\n",
    "redirect_url = f\"{homepage_url.lower()}/oauth/huggingface/callback\"\n",
    "print(f\"Homepage URL: {homepage_url.lower()} \\n Logo URL: {favicon_url} \\n Redirect URL: {redirect_url}\")"
   ]
  },
  {
   "cell_type": "code",
   "execution_count": null,
   "id": "f79e2f0d",
   "metadata": {},
   "outputs": [],
   "source": []
  }
 ],
 "metadata": {
  "kernelspec": {
   "display_name": "Python 3 (ipykernel)",
   "language": "python",
   "name": "python3"
  },
  "language_info": {
   "codemirror_mode": {
    "name": "ipython",
    "version": 3
   },
   "file_extension": ".py",
   "mimetype": "text/x-python",
   "name": "python",
   "nbconvert_exporter": "python",
   "pygments_lexer": "ipython3",
   "version": "3.11.5"
  }
 },
 "nbformat": 4,
 "nbformat_minor": 5
}
